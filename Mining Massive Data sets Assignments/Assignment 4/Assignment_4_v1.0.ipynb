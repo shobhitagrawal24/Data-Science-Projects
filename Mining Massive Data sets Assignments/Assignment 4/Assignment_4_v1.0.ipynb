{
 "cells": [
  {
   "cell_type": "markdown",
   "metadata": {},
   "source": [
    "# Importing the necessary libraries"
   ]
  },
  {
   "cell_type": "code",
   "execution_count": 90,
   "metadata": {
    "collapsed": false
   },
   "outputs": [],
   "source": [
    "import numpy as np\n",
    "import zipfile as zf\n",
    "import json\n",
    "import time\n",
    "import scipy.sparse as sps\n",
    "from scipy import random\n",
    "from sklearn.preprocessing import normalize\n",
    "from itertools import count\n",
    "from sklearn.cluster import KMeans\n",
    "import matplotlib.pyplot as plt"
   ]
  },
  {
   "cell_type": "markdown",
   "metadata": {},
   "source": [
    "# Necessary parameters for calculation\n",
    "\n",
    "* $\\mathbf{fileName}$: Name of the data file.\n",
    "* $\\mathbf{tagCutoff}$: Minimum tag relation between a tag and a track for them to be related.\n",
    "* $\\mathbf{K}$: Amount of clusters.\n",
    "* $\\mathbf{eigCalTol}$: Eigenvector calculation tolerance. Please don't edit this unless you have a strong computer. With tolerance 0, it takes my laptop over 20 hours to calculate the 10 eigenvectors of a 455.000 x 455.000 sparse matrix.\n",
    "* $\\mathbf{dsFrac}$: What fraction of the dataset should be loaded. Please be careful with this. Too much of data would lead to a lot of time spent on eigenvector calculation."
   ]
  },
  {
   "cell_type": "code",
   "execution_count": 2,
   "metadata": {
    "collapsed": false
   },
   "outputs": [],
   "source": [
    "fileName = 'lastfm_test.zip'\n",
    "tagCutoff = 50\n",
    "K = 10\n",
    "eigCalTol = 1e-2\n",
    "dsFrac = 1.0"
   ]
  },
  {
   "cell_type": "markdown",
   "metadata": {},
   "source": [
    "# Reading the Dataset"
   ]
  },
  {
   "cell_type": "code",
   "execution_count": 13,
   "metadata": {
    "collapsed": false,
    "scrolled": true
   },
   "outputs": [
    {
     "name": "stdout",
     "output_type": "stream",
     "text": [
      "0.0  % of data is loaded.\n",
      "10.0  % of data is loaded.\n",
      "20.0  % of data is loaded.\n",
      "30.0  % of data is loaded.\n",
      "40.0  % of data is loaded.\n",
      "50.0  % of data is loaded.\n",
      "60.0  % of data is loaded.\n",
      "70.0  % of data is loaded.\n",
      "80.0  % of data is loaded.\n",
      "90.0  % of data is loaded.\n",
      "100.0  % of data is loaded.\n",
      "Loading the dataset took  73.47851666454062  seconds.\n"
     ]
    }
   ],
   "source": [
    "begin = time.clock()\n",
    "\n",
    "Dupls = []\n",
    "simD = []\n",
    "tagD = []\n",
    "trkToIndex = {}\n",
    "tagToIndex = {}\n",
    "file = zf.ZipFile(fileName)\n",
    "trkCounter = count()\n",
    "tagCounter = count()\n",
    "\n",
    "maxI = np.floor(len(file.filelist)*dsFrac).astype(np.int)\n",
    "\n",
    "for i in range(maxI):\n",
    "    \n",
    "    if(i%(maxI//10) == 0):\n",
    "        print(round(100 * i / maxI), \" % of data is loaded.\")\n",
    "    \n",
    "    if(file.filelist[i].filename.endswith('.json')):\n",
    "        fCont = file.read(file.filelist[i]).decode(\"utf-8\")\n",
    "        jCont = json.loads(fCont)\n",
    "        \n",
    "        sims = np.array(jCont['similars'])\n",
    "        tags = np.array(jCont['tags'])\n",
    "        tName = jCont['track_id']\n",
    "        \n",
    "        if(len(sims) > 0):\n",
    "\n",
    "            if(tName in trkToIndex):\n",
    "                trkIndex = trkToIndex[tName]\n",
    "            else:\n",
    "                trkIndex = next(trkCounter)\n",
    "                trkToIndex[tName] = trkIndex\n",
    "\n",
    "            prevTrk = []\n",
    "\n",
    "            for s in sims:\n",
    "                similarity = float(s[1])\n",
    "                #Some values are buggy. IE: There are values as large as 3000. Below code is to fix that\n",
    "                while(similarity > 1.0):\n",
    "                    similarity /= 10\n",
    "                    \n",
    "                tName2 = s[0]\n",
    "\n",
    "                if(tName2 not in prevTrk):\n",
    "                    if(tName2 in trkToIndex):\n",
    "                        trkIndex2 = trkToIndex[tName2]\n",
    "                    else:\n",
    "                        trkIndex2 = next(trkCounter)\n",
    "                        trkToIndex[tName2] = trkIndex2\n",
    "\n",
    "                    simD.append([trkIndex, trkIndex2, similarity])\n",
    "                    prevTrk.append(tName2)\n",
    "                    \n",
    "                    \n",
    "            for t in tags:\n",
    "                if(int(t[1]) >= tagCutoff):\n",
    "                    if(t[0] in tagToIndex):\n",
    "                        tagId = tagToIndex[t[0]]\n",
    "                    else:\n",
    "                        tagId = next(tagCounter)\n",
    "                        tagToIndex[t[0]] = tagId\n",
    "                    tagD.append([trkIndex, tagId, 1])\n",
    "                \n",
    "file.close()\n",
    "tagD = np.array(tagD)\n",
    "simD = np.array(simD)\n",
    "\n",
    "print(\"Loading the dataset took \", time.clock() - begin, \" seconds.\")"
   ]
  },
  {
   "cell_type": "markdown",
   "metadata": {},
   "source": [
    "# Creating the Tag, L, L_sym matrices"
   ]
  },
  {
   "cell_type": "code",
   "execution_count": 81,
   "metadata": {
    "collapsed": false
   },
   "outputs": [
    {
     "name": "stdout",
     "output_type": "stream",
     "text": [
      "Generating the weighted adjacency(W) and Laplacian(L) matrices took  4.471136349973676  seconds.\n"
     ]
    }
   ],
   "source": [
    "begin = time.clock()\n",
    "\n",
    "N = len(trkToIndex)\n",
    "\n",
    "X = tagD[:,0].astype(np.int)\n",
    "Y = tagD[:,1].astype(np.int)\n",
    "Z = tagD[:,2].astype(np.int)\n",
    "tagM = sps.coo_matrix((Z, (X,Y)), shape=(N, len(tagToIndex))).tocsc()\n",
    "\n",
    "X = simD[:,0].astype(np.int)\n",
    "Y = simD[:,1].astype(np.int)\n",
    "Z = simD[:,2].astype(np.float)\n",
    "W = sps.coo_matrix((Z, (X,Y)), shape=(N, N)).tocsc()\n",
    "W = (W + W.T + abs(W - W.T))/2\n",
    "\n",
    "d = np.array(W.sum(0))[0]\n",
    "D = sps.diags(d).tocsc()\n",
    "L = D - W\n",
    "\n",
    "D_isq = sps.diags(np.sqrt(1/d)).tocsc()\n",
    "L_sym = D_isq.dot(L.dot(D_isq))\n",
    "\n",
    "#del X, Y, Z, d, D, D_isq\n",
    "print(\"Generating the weighted adjacency(W) and Laplacian(L) matrices took \", time.clock() - begin, \" seconds.\")"
   ]
  },
  {
   "cell_type": "markdown",
   "metadata": {},
   "source": [
    "# Calculating the Answers using L Matrix"
   ]
  },
  {
   "cell_type": "code",
   "execution_count": 164,
   "metadata": {
    "collapsed": false
   },
   "outputs": [
    {
     "name": "stdout",
     "output_type": "stream",
     "text": [
      "Applying Spectral Shifting\n",
      "Calculating the Constrained Relaxation Answer\n",
      "Calculating the K-Means Cluster Centers\n",
      "Assigning each item to its cluster\n",
      "0  % of data is assigned to its cluster.\n",
      "10  % of data is assigned to its cluster.\n",
      "20  % of data is assigned to its cluster.\n",
      "30  % of data is assigned to its cluster.\n",
      "40  % of data is assigned to its cluster.\n",
      "50  % of data is assigned to its cluster.\n",
      "60  % of data is assigned to its cluster.\n",
      "70  % of data is assigned to its cluster.\n",
      "80  % of data is assigned to its cluster.\n",
      "90  % of data is assigned to its cluster.\n",
      "100  % of data is assigned to its cluster.\n",
      "Calculating the Hard Answer Assignment\n",
      "Spectral clustering took  174.70396815622007  seconds\n"
     ]
    }
   ],
   "source": [
    "begin = time.clock()\n",
    "\n",
    "print(\"Applying Spectral Shifting\")\n",
    "[w,v] = sps.linalg.eigsh(L,k=1, tol=eigCalTol)\n",
    "B = L-sps.diags([w[0] for i in range(N)])\n",
    "wMax = w[0]\n",
    "\n",
    "print(\"Calculating the Constrained Relaxation Answer\")\n",
    "[w,v] = sps.linalg.eigsh(B,k=K, tol=eigCalTol)\n",
    "H_L_1 = v.copy()\n",
    "\n",
    "print(\"Calculating the K-Means Cluster Centers\")\n",
    "H_L_1 = normalize(H_L_1, norm='l1', axis=0)\n",
    "km = KMeans(n_clusters=K, random_state=0).fit(H_L_1)\n",
    "\n",
    "print(\"Assigning each item to its cluster\")\n",
    "clusters = [[] for i in range(K)]\n",
    "for i in range(N):\n",
    "    if(i%(N//10) == 0):\n",
    "        print(round(100 * i / N), \" % of data is assigned to its cluster.\")\n",
    "    v_i = H_L_1[i]\n",
    "    dists = []\n",
    "    for m in km.cluster_centers_:\n",
    "        dists.append(np.linalg.norm(m-v_i))\n",
    "    clusters[np.argmin(np.array(dists))].append(i)\n",
    "\n",
    "print(\"Calculating the Hard Answer Assignment\")\n",
    "clS = [len(c) for c in clusters]\n",
    "h = []\n",
    "for i in range(K):\n",
    "    h_t = np.array([np.array(clusters[i]), np.zeros(clS[i])+i, np.ones(clS[i])*1/clS[i]]).T\n",
    "    if(len(h) == 0):\n",
    "        h = h_t.copy()\n",
    "    else:\n",
    "        h = np.append(h,h_t,axis=0)\n",
    "H_L_2 = sps.coo_matrix((h[:,2],(h[:,0],h[:,1]))).tocsr()\n",
    "\n",
    "print(\"Spectral clustering took \", time.clock()-begin, \" seconds\")"
   ]
  },
  {
   "cell_type": "markdown",
   "metadata": {},
   "source": [
    "# Results obtained using L matrix"
   ]
  },
  {
   "cell_type": "code",
   "execution_count": 152,
   "metadata": {
    "collapsed": false,
    "scrolled": false
   },
   "outputs": [
    {
     "name": "stdout",
     "output_type": "stream",
     "text": [
      "The ratio cut values for Constrained Relaxatio are: \n",
      "\n",
      "9.16006478903e-06\n",
      "7.02622745443e-06\n",
      "7.4760434942e-06\n",
      "7.92957083135e-06\n",
      "8.90097388944e-06\n",
      "9.85732678572e-06\n",
      "1.14337585758e-05\n",
      "1.28203910832e-05\n",
      "1.41082783312e-05\n",
      "1.58494243655e-05\n",
      "\n",
      "The ratio cut values for Hard Assignment are: \n",
      "\n",
      "1.73959309049e-05\n",
      "2.64976935473e-06\n",
      "1.54663415234e-05\n",
      "0.00013489594099\n",
      "5.66206129076e-05\n",
      "0.000126466587783\n",
      "0.000115197240422\n",
      "9.64786893233e-05\n",
      "0.000120898410954\n",
      "0.000100077260668\n"
     ]
    },
    {
     "data": {
      "image/png": "[encoded data removed]",
      "text/plain": [
       "<matplotlib.figure.Figure at 0x214b1d9ec88>"
      ]
     },
     "metadata": {},
     "output_type": "display_data"
    }
   ],
   "source": [
    "ratCuts_L_1 = H_L_1.T.dot(L_sym.dot(H_L_1)).diagonal()\n",
    "ratCuts_L_2 = H_L_2.T.dot(L_sym.dot(H_L_2)).diagonal()\n",
    "\n",
    "print(\"The ratio cut values for Constrained Relaxatio are: \\n\")\n",
    "for r in ratCuts_L_1:\n",
    "    print(r)\n",
    "\n",
    "print()\n",
    "\n",
    "print(\"The ratio cut values for Hard Assignment are: \\n\")\n",
    "for r in ratCuts_L_2:\n",
    "    print(r)\n",
    "\n",
    "tagsByCluster = [[] for k in range(K)]\n",
    "\n",
    "for k in range(K):\n",
    "    tagsByCluster[k] = len(set(tagM[clusters[k],:].nonzero()[1]))\n",
    "\n",
    "vplt.bar(range(K),tagsByCluster)\n",
    "plt.xlabel(\"Cluster Index\")\n",
    "plt.ylabel(\"Amount of Unique Tags in a Cluster\")\n",
    "plt.show()"
   ]
  },
  {
   "cell_type": "markdown",
   "metadata": {},
   "source": [
    "# Calculating the Answers using L_sym Matrix"
   ]
  },
  {
   "cell_type": "code",
   "execution_count": 167,
   "metadata": {
    "collapsed": false
   },
   "outputs": [
    {
     "name": "stdout",
     "output_type": "stream",
     "text": [
      "Applying Spectral Shifting\n",
      "Calculating the Constrained Relaxation Answer\n",
      "Calculating the K-Means Cluster Centers\n",
      "Assigning each item to its cluster\n",
      "0  % of data is assigned to its cluster.\n",
      "10  % of data is assigned to its cluster.\n",
      "20  % of data is assigned to its cluster.\n",
      "30  % of data is assigned to its cluster.\n",
      "40  % of data is assigned to its cluster.\n",
      "50  % of data is assigned to its cluster.\n",
      "60  % of data is assigned to its cluster.\n",
      "70  % of data is assigned to its cluster.\n",
      "80  % of data is assigned to its cluster.\n",
      "90  % of data is assigned to its cluster.\n",
      "100  % of data is assigned to its cluster.\n",
      "Calculating the Hard Answer Assignment\n",
      "Spectral clustering took  101.58196020040486  seconds\n"
     ]
    }
   ],
   "source": [
    "begin = time.clock()\n",
    "\n",
    "print(\"Applying Spectral Shifting\")\n",
    "[w,v] = sps.linalg.eigsh(L_sym,k=1, tol=eigCalTol)\n",
    "B = L_sym-sps.diags([w[0] for i in range(N)])\n",
    "wMax = w[0]\n",
    "\n",
    "print(\"Calculating the Constrained Relaxation Answer\")\n",
    "[w,v] = sps.linalg.eigsh(B,k=K+1, tol=eigCalTol)\n",
    "H_L_1 = v[:,1:K+1].copy()\n",
    "\n",
    "print(\"Calculating the K-Means Cluster Centers\")\n",
    "H_L_1 = normalize(H_L_1, norm='l1', axis=0)\n",
    "km = KMeans(n_clusters=K, random_state=0).fit(H_L_1)\n",
    "\n",
    "print(\"Assigning each item to its cluster\")\n",
    "clusters = [[] for i in range(K)]\n",
    "for i in range(N):\n",
    "    if(i%(N//10) == 0):\n",
    "        print(round(100 * i / N), \" % of data is assigned to its cluster.\")\n",
    "    v_i = H_L_1[i]\n",
    "    dists = []\n",
    "    for m in km.cluster_centers_:\n",
    "        dists.append(np.linalg.norm(m-v_i))\n",
    "    clusters[np.argmin(np.array(dists))].append(i)\n",
    "\n",
    "print(\"Calculating the Hard Answer Assignment\")\n",
    "clS = [len(c) for c in clusters]\n",
    "h = []\n",
    "for i in range(K):\n",
    "    h_t = np.array([np.array(clusters[i]), np.zeros(clS[i])+i, np.ones(clS[i])*1/clS[i]]).T\n",
    "    if(len(h) == 0):\n",
    "        h = h_t.copy()\n",
    "    else:\n",
    "        h = np.append(h,h_t,axis=0)\n",
    "H_L_2 = sps.coo_matrix((h[:,2],(h[:,0],h[:,1]))).tocsr()\n",
    "\n",
    "print(\"Spectral clustering took \", time.clock()-begin, \" seconds\")"
   ]
  },
  {
   "cell_type": "markdown",
   "metadata": {},
   "source": [
    "# Results obtained using L_sym matrix"
   ]
  },
  {
   "cell_type": "code",
   "execution_count": 163,
   "metadata": {
    "collapsed": false,
    "scrolled": false
   },
   "outputs": [
    {
     "name": "stdout",
     "output_type": "stream",
     "text": [
      "The ratio cut values for Constrained Relaxatio are: \n",
      "\n",
      "8.42662940917e-07\n",
      "3.62976104195e-07\n",
      "4.09145971807e-07\n",
      "1.09266075852e-06\n",
      "1.17852861451e-06\n",
      "8.68177642972e-07\n",
      "9.75406418517e-07\n",
      "1.06159056476e-06\n",
      "1.49122357571e-06\n",
      "1.49643798203e-06\n",
      "\n",
      "The ratio cut values for Hard Assignment are: \n",
      "\n",
      "1.28766189819e-06\n",
      "0.011004696222\n",
      "0.0984132653878\n",
      "0.0182287826694\n",
      "0.00732704937529\n",
      "0.00304372283993\n",
      "0.00556928576974\n",
      "0.00163561877562\n",
      "0.00159417067536\n",
      "0.00552664186553\n"
     ]
    },
    {
     "data": {
      "image/png": "[encoded data removed]",
      "text/plain": [
       "<matplotlib.figure.Figure at 0x214d57d89e8>"
      ]
     },
     "metadata": {},
     "output_type": "display_data"
    }
   ],
   "source": [
    "ratCuts_L_1 = H_L_1.T.dot(L_sym.dot(H_L_1)).diagonal()\n",
    "ratCuts_L_2 = H_L_2.T.dot(L_sym.dot(H_L_2)).diagonal()\n",
    "\n",
    "print(\"The ratio cut values for Constrained Relaxatio are: \\n\")\n",
    "for r in ratCuts_L_1:\n",
    "    print(r)\n",
    "\n",
    "print()\n",
    "\n",
    "print(\"The ratio cut values for Hard Assignment are: \\n\")\n",
    "for r in ratCuts_L_2:\n",
    "    print(r)\n",
    "\n",
    "tagsByCluster = [[] for k in range(K)]\n",
    "\n",
    "for k in range(K):\n",
    "    tagsByCluster[k] = len(set(tagM[clusters[k],:].nonzero()[1]))\n",
    "\n",
    "plt.bar(range(K),tagsByCluster)\n",
    "plt.xlabel(\"Cluster Index\")\n",
    "plt.ylabel(\"Amount of Unique Tags in a Cluster\")\n",
    "plt.show()"
   ]
  },
  {
   "cell_type": "markdown",
   "metadata": {},
   "source": [
    "# Notes and Conclusions\n",
    "It seems that when we're using L_sym for clustering, A VERY LARGE portion of the dataset is clustered into a single cluster and when using L matrix, we se a more balanced distribution of tracks per cluster.\n",
    "\n",
    "That is because regular laplacian matrix L approximates the Ratio-Cut and normalized laplacian matrix approximates Normalized-Cut.\n",
    "\n",
    "Also naturally, clustering via regular laplacian matrix takes more time than the normalized one."
   ]
  }
 ],
 "metadata": {
  "anaconda-cloud": {},
  "kernelspec": {
   "display_name": "Python [conda root]",
   "language": "python",
   "name": "conda-root-py"
  },
  "language_info": {
   "codemirror_mode": {
    "name": "ipython",
    "version": 3
   },
   "file_extension": ".py",
   "mimetype": "text/x-python",
   "name": "python",
   "nbconvert_exporter": "python",
   "pygments_lexer": "ipython3",
   "version": "3.5.2"
  }
 },
 "nbformat": 4,
 "nbformat_minor": 1
}
