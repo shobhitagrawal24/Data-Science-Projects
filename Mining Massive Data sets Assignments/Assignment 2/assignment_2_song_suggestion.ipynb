{
 "cells": [
  {
   "cell_type": "markdown",
   "metadata": {},
   "source": [
    "# Importing the necessary packages"
   ]
  },
  {
   "cell_type": "code",
   "execution_count": 1,
   "metadata": {
    "collapsed": false
   },
   "outputs": [],
   "source": [
    "import numpy as np\n",
    "import pandas as pd\n",
    "import time\n",
    "import sklearn as sk\n",
    "import random\n",
    "from sklearn.linear_model import Ridge\n",
    "from scipy.sparse.linalg import svds"
   ]
  },
  {
   "cell_type": "markdown",
   "metadata": {},
   "source": [
    "# Setting the parameters\n",
    "fname: File containing the triplets.\n",
    "\n",
    "N: Number of triplets to be read.\n",
    "\n",
    "Cutoff: Treshold parameter for refining the matrix to avoid cold start.\n",
    "\n",
    "B: Bin size.\n",
    "\n",
    "TS: Testing set size.\n",
    "\n",
    "K: Parameter K for Q P estimation.\n",
    "\n",
    "MaxIter: Maximum number of iterations for alternating Q P estimation.\n",
    "\n",
    "MaxMSE: Maximum MSE at each step for alternating Q P estimation between t and t+1.\n",
    "\n",
    "Note: Alternating QP estimation has two cutoff parameters. One, if the max number of iterations have been reached. Two, if the matrices have converged. Convergence is measured by MSE. I.E: If MSE betwenn P and Q between t and t+1 are lower than MaxMSE, then the iterations are cut off."
   ]
  },
  {
   "cell_type": "code",
   "execution_count": 2,
   "metadata": {
    "collapsed": true
   },
   "outputs": [],
   "source": [
    "fname = \"train_triplets.txt\"\n",
    "N = 300000\n",
    "cutoff = 5\n",
    "B = 10\n",
    "TS = 200\n",
    "K = 30\n",
    "MaxIter = 10\n",
    "MaxMSE = 0.01"
   ]
  },
  {
   "cell_type": "markdown",
   "metadata": {},
   "source": [
    "# Reading the dataset"
   ]
  },
  {
   "cell_type": "code",
   "execution_count": 3,
   "metadata": {
    "collapsed": false
   },
   "outputs": [
    {
     "name": "stdout",
     "output_type": "stream",
     "text": [
      "Loading the Dataset took  52.88938484699528  seconds.\n"
     ]
    }
   ],
   "source": [
    "begin = time.clock()\n",
    "\n",
    "f = open(fname, \"r\")\n",
    "usrs = []\n",
    "songs = []\n",
    "reps = []\n",
    "for n in range(0, N):\n",
    "    line = next(f)\n",
    "    a = line.split('\\t')\n",
    "    usrs.append(a[0])\n",
    "    songs.append(a[1])\n",
    "    reps.append(int(a[2]))\n",
    "    \n",
    "f.close()\n",
    "\n",
    "songList = list(set(songs))\n",
    "usrList = list(set(usrs))\n",
    "\n",
    "v = pd.DataFrame(0, index = usrList, columns = songList)\n",
    "for i in range(0, N):\n",
    "    v.set_value(usrs[i], songs[i], reps[i])\n",
    "M = np.array(v.as_matrix()).astype(np.float32)\n",
    "\n",
    "del v\n",
    "del usrs\n",
    "del songs\n",
    "del reps\n",
    "\n",
    "print(\"Loading the Dataset took \", time.clock() - begin, \" seconds.\")"
   ]
  },
  {
   "cell_type": "markdown",
   "metadata": {},
   "source": [
    "# Refining the dataset to avoid cold-start issue"
   ]
  },
  {
   "cell_type": "code",
   "execution_count": 4,
   "metadata": {
    "collapsed": false
   },
   "outputs": [
    {
     "name": "stdout",
     "output_type": "stream",
     "text": [
      "Refining the data took  23.596229252144298  seconds\n"
     ]
    }
   ],
   "source": [
    "begin = time.clock()\n",
    "\n",
    "carryOn = True\n",
    "while(carryOn):\n",
    "    \n",
    "    carryOn = False\n",
    "    delCols = []\n",
    "    for cols in range(0, len(M[0])):\n",
    "        if(np.count_nonzero(M[:, cols]) <= cutoff):\n",
    "            delCols.append(cols)\n",
    "            \n",
    "    if(delCols):\n",
    "        M = np.delete(M, delCols, axis = 1)\n",
    "        carryOn = True\n",
    "\n",
    "    delRows = []\n",
    "    for rows in range(0, len(M)):\n",
    "        if(np.count_nonzero(M[rows, :]) <= cutoff):\n",
    "            delRows.append(rows)\n",
    "\n",
    "    if(delRows):\n",
    "        M = np.delete(M, delRows, axis = 0)\n",
    "        carryOn = True\n",
    "\n",
    "print(\"Refining the data took \", time.clock() - begin, \" seconds\")"
   ]
  },
  {
   "cell_type": "markdown",
   "metadata": {},
   "source": [
    "# Binning the values in the dataset"
   ]
  },
  {
   "cell_type": "code",
   "execution_count": 5,
   "metadata": {
    "collapsed": false
   },
   "outputs": [
    {
     "name": "stdout",
     "output_type": "stream",
     "text": [
      "Binning the dataset took  30.12228684706639  seconds\n"
     ]
    }
   ],
   "source": [
    "begin = time.clock()\n",
    "bins = [[np.power(2,i), np.power(2,(i + 1)) - 1, i + 1] for i in range(0, B)]\n",
    "bins[len(bins) - 1][1] = np.infty\n",
    "\n",
    "for i in range(0, len(bins)-1):\n",
    "    b = bins[i]\n",
    "    for r in range(b[0], b[1] + 1):\n",
    "        M[M == r] = b[2]\n",
    "\n",
    "M[M >= bins[len(bins) - 1][0]] = bins[len(bins) - 1][2]\n",
    "print(\"Binning the dataset took \", time.clock() - begin, \" seconds\")"
   ]
  },
  {
   "cell_type": "markdown",
   "metadata": {},
   "source": [
    "# Creating the testing dataset"
   ]
  },
  {
   "cell_type": "code",
   "execution_count": 6,
   "metadata": {
    "collapsed": false
   },
   "outputs": [],
   "source": [
    "N = list(np.transpose([M.nonzero()[0], M.nonzero()[1]]))\n",
    "testI = random.sample(N, 200)\n",
    "testR = [M[i[0]][i[1]] for i in testI]\n",
    "for i in testI:\n",
    "    M[i[0]][i[1]] = 0"
   ]
  },
  {
   "cell_type": "markdown",
   "metadata": {},
   "source": [
    "# MSE function to check for convergence "
   ]
  },
  {
   "cell_type": "code",
   "execution_count": 7,
   "metadata": {
    "collapsed": false
   },
   "outputs": [],
   "source": [
    "def MSE(v1, v2):\n",
    "    if(v1.shape == v2.shape):\n",
    "        e = v1 - v2\n",
    "    else:\n",
    "        e = np.transpose(v1) - v2\n",
    "    s = v1.shape[0] * v1.shape[1]\n",
    "    return np.sqrt(sum(sum(e * e)) / s) "
   ]
  },
  {
   "cell_type": "markdown",
   "metadata": {},
   "source": [
    "# Estimation of Q and P"
   ]
  },
  {
   "cell_type": "code",
   "execution_count": 8,
   "metadata": {
    "collapsed": false
   },
   "outputs": [
    {
     "name": "stdout",
     "output_type": "stream",
     "text": [
      "Estimating P and Q\n",
      "Iteration:  1\n",
      "\tMSE Q:  0.331345920672\n",
      "\tMSE P   0.450759392173\n",
      "Iteration:  2\n",
      "\tMSE Q:  0.157407080751\n",
      "\tMSE P   0.133100367238\n",
      "Iteration:  3\n",
      "\tMSE Q:  0.0607244219264\n",
      "\tMSE P   0.0762062649589\n",
      "Iteration:  4\n",
      "\tMSE Q:  0.0403068822261\n",
      "\tMSE P   0.0535943689368\n",
      "Iteration:  5\n",
      "\tMSE Q:  0.0305574189905\n",
      "\tMSE P   0.0412994558812\n",
      "Iteration:  6\n",
      "\tMSE Q:  0.0247230408254\n",
      "\tMSE P   0.0336061546415\n",
      "Iteration:  7\n",
      "\tMSE Q:  0.020819437956\n",
      "\tMSE P   0.0283641400943\n",
      "Iteration:  8\n",
      "\tMSE Q:  0.0180184472174\n",
      "\tMSE P   0.0245669169099\n",
      "Iteration:  9\n",
      "\tMSE Q:  0.0159060511927\n",
      "\tMSE P   0.0216885941172\n",
      "Iteration:  10\n",
      "\tMSE Q:  0.0142540735456\n",
      "\tMSE P   0.0194314551922\n",
      "P and Q estimation finished.\n",
      "Estimation process ended because max number of iterations reached\n",
      "Estimating P and Q took  93.57609804501598  seconds\n"
     ]
    }
   ],
   "source": [
    "begin = time.clock()\n",
    "clf = Ridge(alpha=1.0)\n",
    "clf.fit_intercept = False\n",
    "\n",
    "U, s, V = svds(M, k=K)\n",
    "S = np.diag(s)\n",
    "Q = U.dot(S)\n",
    "P = V\n",
    "print(\"Estimating P and Q\")\n",
    "MSE_P = 1\n",
    "MSE_Q = 1\n",
    "t = 1\n",
    "for t in range(1, MaxIter+1):\n",
    "    P_prev = P.copy()\n",
    "    P = []\n",
    "    print(\"Iteration: \", t)\n",
    "    for i in range(0, len(M[0])):\n",
    "        NZ = np.nonzero(M[:,i])\n",
    "        R = M[NZ,i][0]\n",
    "        Q_ = Q[NZ,:][0]\n",
    "        clf.fit(Q_,R)\n",
    "        P.append(clf.coef_)\n",
    "    Q_prev = Q.copy()\n",
    "    Q = []\n",
    "    P = np.array(P)\n",
    "    for i in range(0, len(M)):\n",
    "        NZ = np.nonzero(M[i,:])\n",
    "        R = M[i,NZ][0]\n",
    "        P_ = P[NZ,:][0]\n",
    "        clf.fit(P_,R)\n",
    "        Q.append(clf.coef_)\n",
    "    Q = np.array(Q)\n",
    "    MSE_P = MSE(P, P_prev)\n",
    "    MSE_Q = MSE(Q,Q_prev)\n",
    "    print(\"\\tMSE Q: \", MSE_P)\n",
    "    print(\"\\tMSE P  \", MSE_Q)\n",
    "    if((MSE_P < MaxMSE) & (MSE_Q < MaxMSE)):\n",
    "        break\n",
    "    t+=1\n",
    "print(\"P and Q estimation finished.\")\n",
    "print(\"Estimation process ended because\", end=\"\")\n",
    "if(t > MaxIter):\n",
    "    print(\" max number of iterations reached\")\n",
    "else:\n",
    "    print(\"P and Q both converged\")\n",
    "print(\"Estimating P and Q took \", time.clock() - begin, \" seconds\")"
   ]
  },
  {
   "cell_type": "markdown",
   "metadata": {},
   "source": [
    "# Testing for results"
   ]
  },
  {
   "cell_type": "code",
   "execution_count": 9,
   "metadata": {
    "collapsed": false
   },
   "outputs": [
    {
     "name": "stdout",
     "output_type": "stream",
     "text": [
      "Testing SMSE is:  1.23787584705\n"
     ]
    }
   ],
   "source": [
    "err = 0\n",
    "j = 0\n",
    "N = np.dot(Q,np.transpose(P))\n",
    "for i in testI:\n",
    "    err += (N[i[0]][i[1]] - testR[j])**2\n",
    "    j+=1\n",
    "    \n",
    "print(\"Testing SMSE is: \", np.sqrt(err / TS))"
   ]
  }
 ],
 "metadata": {
  "anaconda-cloud": {},
  "kernelspec": {
   "display_name": "Python [conda root]",
   "language": "python",
   "name": "conda-root-py"
  },
  "language_info": {
   "codemirror_mode": {
    "name": "ipython",
    "version": 3
   },
   "file_extension": ".py",
   "mimetype": "text/x-python",
   "name": "python",
   "nbconvert_exporter": "python",
   "pygments_lexer": "ipython3",
   "version": "3.5.2"
  }
 },
 "nbformat": 4,
 "nbformat_minor": 1
}
