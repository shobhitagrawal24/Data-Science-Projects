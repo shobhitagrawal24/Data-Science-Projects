{
 "cells": [
  {
   "cell_type": "markdown",
   "metadata": {},
   "source": [
    "# Importing the necessary libraries"
   ]
  },
  {
   "cell_type": "code",
   "execution_count": 1,
   "metadata": {
    "collapsed": true
   },
   "outputs": [],
   "source": [
    "import numpy as np\n",
    "import zipfile as zf\n",
    "import json\n",
    "import time\n",
    "import scipy.sparse as sps\n",
    "from sklearn.preprocessing import normalize\n",
    "from itertools import count"
   ]
  },
  {
   "cell_type": "markdown",
   "metadata": {},
   "source": [
    "# Setting up the parameters\n",
    "\n",
    "* fileName: The name of the database file\n",
    "* simCutoff: The minimum similarity there has to be for there to be a link between track i to j\n",
    "* tagCutoff: The minimum Tag value there has to be for there to be a link between a track and a particular Tag\n",
    "* Beta: The Beta value for $r^{new} = \\beta M r^{old} + A$\n",
    "* n_most_i: The parameter that defines n in \"Top n most popluar songs\"\n",
    "* tagList: The selected list of tags for this experiment. Note that The songs will be selected as an intersection of tags. IE: If the taglist is ['a', 'b'], then only the songs that have both 'a' and 'b' tags will be selected"
   ]
  },
  {
   "cell_type": "code",
   "execution_count": 2,
   "metadata": {
    "collapsed": true
   },
   "outputs": [],
   "source": [
    "fileName = 'lastfm_test.zip'\n",
    "simCutoff = 0.0\n",
    "tagCutoff = 50\n",
    "Beta = 0.2\n",
    "n_most_i = 5\n",
    "tagList = ['Hip-Hop']"
   ]
  },
  {
   "cell_type": "markdown",
   "metadata": {},
   "source": [
    "# Reading the dataset"
   ]
  },
  {
   "cell_type": "code",
   "execution_count": 3,
   "metadata": {
    "collapsed": false,
    "scrolled": true
   },
   "outputs": [
    {
     "name": "stdout",
     "output_type": "stream",
     "text": [
      "0  % of dataset loaded.\n",
      "8  % of dataset loaded.\n",
      "16  % of dataset loaded.\n",
      "25  % of dataset loaded.\n",
      "33  % of dataset loaded.\n",
      "41  % of dataset loaded.\n",
      "49  % of dataset loaded.\n",
      "57  % of dataset loaded.\n",
      "65  % of dataset loaded.\n",
      "74  % of dataset loaded.\n",
      "82  % of dataset loaded.\n",
      "90  % of dataset loaded.\n",
      "98  % of dataset loaded.\n",
      "Loading the dataset took  44.250523722090605  seconds.\n"
     ]
    }
   ],
   "source": [
    "begin = time.clock()\n",
    "simD = []\n",
    "tagD = []\n",
    "file = zf.ZipFile(fileName)\n",
    "\n",
    "for i in range(0,len(file.filelist)):\n",
    "    \n",
    "    if(i%10000 == 0):\n",
    "        print(round(100 * i / len(file.filelist)), \" % of dataset loaded.\")\n",
    "    \n",
    "    if(file.filelist[i].filename.endswith('.json')):\n",
    "        fCont = file.read(file.filelist[i]).decode(\"utf-8\")\n",
    "        jCont = json.loads(fCont)\n",
    "        \n",
    "        sims = np.array(jCont['similars'])\n",
    "        tags = np.array(jCont['tags'])\n",
    "        tName = jCont['track_id']\n",
    "        \n",
    "        for s in sims:\n",
    "            if(float(s[1]) >= simCutoff):\n",
    "                simD.append([tName, s[0]])\n",
    "                \n",
    "        for t in tags:\n",
    "            if(int(t[1]) >= tagCutoff):\n",
    "                tagD.append([tName, t[0]])\n",
    "                \n",
    "file.close()\n",
    "print(\"Loading the dataset took \", time.clock() - begin, \" seconds.\")"
   ]
  },
  {
   "cell_type": "markdown",
   "metadata": {},
   "source": [
    "# Itertively removing the dead-end entries from similarity data\n",
    "\n",
    "* In each iteration, dead end trakcs are trimmed. Since we delete some dead end trakcs in each iteration, some tracks that were not dead-end tracks in the previous iteration become dead end tracks in the next one.\n",
    "* Please note that this process needs to go on until there are no more dead-end tracks left in the dataset."
   ]
  },
  {
   "cell_type": "code",
   "execution_count": 4,
   "metadata": {
    "collapsed": false,
    "scrolled": true
   },
   "outputs": [
    {
     "name": "stdout",
     "output_type": "stream",
     "text": [
      "532  dead end tracks trimmed\n",
      "58  dead end tracks trimmed\n",
      "8  dead end tracks trimmed\n",
      "0  dead end tracks trimmed\n",
      "Trimming the dataset took  18.25097202453457  seconds.\n"
     ]
    }
   ],
   "source": [
    "begin = time.clock()\n",
    "simD = np.array(simD)\n",
    "\n",
    "prevLen = 0\n",
    "currentLen = -1\n",
    "unTrks = set(simD[:,0])\n",
    "\n",
    "while(currentLen != prevLen):\n",
    "    \n",
    "    prevLen = len(unTrks)\n",
    "    SD = []\n",
    "    \n",
    "    for sim in simD:\n",
    "        if(sim[1] in unTrks):\n",
    "            SD.append(sim)\n",
    "\n",
    "    SD = np.array(SD)\n",
    "    simD = SD.copy()\n",
    "    unTrks = set(simD[:,0])\n",
    "    currentLen = len(unTrks)\n",
    "    print(prevLen - currentLen, \" dead end tracks trimmed\")\n",
    "    \n",
    "del SD, unTrks\n",
    "print(\"Trimming the dataset took \", time.clock() - begin, \" seconds.\")"
   ]
  },
  {
   "cell_type": "markdown",
   "metadata": {},
   "source": [
    "# Indexing the track names and tag names to integers"
   ]
  },
  {
   "cell_type": "code",
   "execution_count": 5,
   "metadata": {
    "collapsed": false
   },
   "outputs": [
    {
     "name": "stdout",
     "output_type": "stream",
     "text": [
      "Indexing the track names and tag names to integers took  3.762965672789065  seconds\n"
     ]
    }
   ],
   "source": [
    "begin = time.clock()\n",
    "\n",
    "trkCounter = count()\n",
    "tagCounter = count()\n",
    "\n",
    "trkToIndex = {}\n",
    "tagToIndex = {}\n",
    "\n",
    "for trk in set(simD[:,0]):\n",
    "    trkToIndex[trk] = next(trkCounter)\n",
    "\n",
    "SD = []\n",
    "for sim in simD:\n",
    "    SD.append([trkToIndex[sim[0]], trkToIndex[sim[1]]])\n",
    "    \n",
    "SD = np.array(SD)\n",
    "simD = SD.copy()\n",
    "del SD\n",
    "\n",
    "TD = []\n",
    "for tag in tagD:\n",
    "    if(tag[0] in trkToIndex):\n",
    "        if(tag[1] in tagToIndex):\n",
    "            tagId = tagToIndex[tag[1]]\n",
    "        else:\n",
    "            tagId = next(tagCounter)\n",
    "            tagToIndex[tag[1]] = tagId\n",
    "        TD.append([trkToIndex[tag[0]], tagId])\n",
    "\n",
    "TD = np.array(TD)\n",
    "tagD = TD.copy()\n",
    "del TD\n",
    "\n",
    "print(\"Indexing the track names and tag names to integers took \", time.clock() - begin, \" seconds\")"
   ]
  },
  {
   "cell_type": "markdown",
   "metadata": {},
   "source": [
    "# Creating the Adjacency and Tag matrices"
   ]
  },
  {
   "cell_type": "code",
   "execution_count": 6,
   "metadata": {
    "collapsed": false
   },
   "outputs": [
    {
     "name": "stdout",
     "output_type": "stream",
     "text": [
      "Creating the matrices for computation of R took  0.3300070489419511  seconds\n"
     ]
    }
   ],
   "source": [
    "begin = time.clock()\n",
    "\n",
    "X = simD[:,0].astype(np.int)\n",
    "Y = simD[:,1].astype(np.int)\n",
    "Z = np.ones(len(simD))\n",
    "\n",
    "mMat = sps.coo_matrix((Z,(Y,X)),shape=(len(trkToIndex),len(trkToIndex))).tocsc()\n",
    "normalize(mMat, norm='l1', axis=0, copy=False)\n",
    "\n",
    "tagD = np.array(tagD)\n",
    "\n",
    "X = tagD[:,0].astype(np.int)\n",
    "Y = tagD[:,1].astype(np.int)\n",
    "Z = np.ones(len(tagD))\n",
    "\n",
    "tagMat = sps.coo_matrix((Z,(Y,X))).tocsc()\n",
    "\n",
    "del simD, tagD, X, Y\n",
    "print(\"Creating the matrices for computation of R took \", time.clock() - begin, \" seconds\")"
   ]
  },
  {
   "cell_type": "markdown",
   "metadata": {},
   "source": [
    "# Selecting the songs that will be given a bias according to the tagList"
   ]
  },
  {
   "cell_type": "code",
   "execution_count": 7,
   "metadata": {
    "collapsed": false
   },
   "outputs": [],
   "source": [
    "trkByTag = []\n",
    "\n",
    "for tagid in tagList:\n",
    "    trkByTag.append(set(tagMat[tagToIndex[tagid]].nonzero()[1]))\n",
    "trkByTag = np.array(list(set.intersection(*trkByTag)))"
   ]
  },
  {
   "cell_type": "markdown",
   "metadata": {},
   "source": [
    "# Iterating through the $r^{new} = \\beta M r^{old} + A$ to find the r matrix"
   ]
  },
  {
   "cell_type": "code",
   "execution_count": 8,
   "metadata": {
    "collapsed": false,
    "scrolled": true
   },
   "outputs": [
    {
     "name": "stdout",
     "output_type": "stream",
     "text": [
      "Difference between rOld and rNew is:  1.59560909265\n",
      "Difference between rOld and rNew is:  0.293439678498\n",
      "Difference between rOld and rNew is:  0.054406522751\n",
      "Difference between rOld and rNew is:  0.0105038104061\n",
      "Difference between rOld and rNew is:  0.00205705490342\n",
      "Difference between rOld and rNew is:  0.000404667217653\n",
      "Difference between rOld and rNew is:  7.98398374574e-05\n",
      "Computing the r matrix took  0.4429143837637497  seconds\n"
     ]
    }
   ],
   "source": [
    "begin = time.clock()\n",
    "\n",
    "aMat = sps.lil_matrix((mMat.shape[0],1))\n",
    "aMat[trkByTag,:] = (1 - Beta) / len(trkByTag)\n",
    "\n",
    "#iMat = sps.csc_matrix(np.ones(mMat.shape[0])).T\n",
    "\n",
    "N = aMat.shape[0]\n",
    "rOld = sps.coo_matrix(np.ones(N)*(1/N)).T.tocsc()\n",
    "\n",
    "mMat = mMat * Beta\n",
    "difference = 1\n",
    "\n",
    "while(difference > 0.0001):\n",
    "    \n",
    "    rNew = (mMat).dot(rOld) + aMat\n",
    "    #probDiff = 1 - rNew.sum()\n",
    "    #rNew += iMat * probDiff / N\n",
    "    difference = np.abs(rNew - rOld).sum()\n",
    "    print(\"Difference between rOld and rNew is: \", difference)\n",
    "    rOld = rNew.copy()\n",
    "    \n",
    "print(\"Computing the r matrix took \", time.clock() - begin, \" seconds\")"
   ]
  },
  {
   "cell_type": "markdown",
   "metadata": {},
   "source": [
    "# Selecting the top n highe values in r that correspond to the tagList and extracting the song names"
   ]
  },
  {
   "cell_type": "code",
   "execution_count": 10,
   "metadata": {
    "collapsed": false
   },
   "outputs": [],
   "source": [
    "selMat = np.array([np.array([trkByTag]), np.array(rNew[trkByTag].toarray()).T]).T\n",
    "selMat = selMat.reshape(selMat.shape[0],selMat.shape[2])\n",
    "selMat = sorted(selMat, key=lambda smE: smE[1])\n",
    "MIT = np.array(selMat[-n_most_i-1:-1])[:,0].astype(np.int)\n",
    "trkNameList = []\n",
    "for trk in trkToIndex:\n",
    "    if(trkToIndex[trk] in MIT):\n",
    "        trkNameList.append(trk)"
   ]
  },
  {
   "cell_type": "markdown",
   "metadata": {},
   "source": [
    "# Printing the results"
   ]
  },
  {
   "cell_type": "code",
   "execution_count": 11,
   "metadata": {
    "collapsed": false,
    "scrolled": true
   },
   "outputs": [
    {
     "name": "stdout",
     "output_type": "stream",
     "text": [
      "The most influential tracks for the tag(s)  ['Hip-Hop']  are:\n",
      "\n",
      "TRRWREZ128F932FAC0\n",
      "TRRWXIB128F92E8647\n",
      "TRFBPXX128F14744D8\n",
      "TRNGVCV128F149F339\n",
      "TRCCEXX128F4292E09\n"
     ]
    }
   ],
   "source": [
    "print(\"The most influential tracks for the tag(s) \", tagList, \" are:\\n\")\n",
    "for i in trkNameList:\n",
    "    print(i)"
   ]
  }
 ],
 "metadata": {
  "anaconda-cloud": {},
  "kernelspec": {
   "display_name": "Python [conda root]",
   "language": "python",
   "name": "conda-root-py"
  },
  "language_info": {
   "codemirror_mode": {
    "name": "ipython",
    "version": 3
   },
   "file_extension": ".py",
   "mimetype": "text/x-python",
   "name": "python",
   "nbconvert_exporter": "python",
   "pygments_lexer": "ipython3",
   "version": "3.5.2"
  }
 },
 "nbformat": 4,
 "nbformat_minor": 1
}
