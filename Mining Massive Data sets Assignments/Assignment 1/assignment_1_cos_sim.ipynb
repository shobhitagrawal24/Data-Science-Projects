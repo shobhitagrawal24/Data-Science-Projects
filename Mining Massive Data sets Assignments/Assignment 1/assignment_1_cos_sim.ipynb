{
 "cells": [
  {
   "cell_type": "markdown",
   "metadata": {},
   "source": [
    "Import necessary packages / functions"
   ]
  },
  {
   "cell_type": "code",
   "execution_count": 55,
   "metadata": {},
   "outputs": [],
   "source": [
    "import tarfile\n",
    "import numpy as np\n",
    "import pandas as pd\n",
    "import random\n",
    "import math\n",
    "import time\n",
    "from sklearn import preprocessing"
   ]
  },
  {
   "cell_type": "markdown",
   "metadata": {},
   "source": [
    "Declare / implement necessary functions"
   ]
  },
  {
   "cell_type": "code",
   "execution_count": 56,
   "metadata": {
    "collapsed": true
   },
   "outputs": [],
   "source": [
    "def randBinStr(listLen):\n",
    "    cds = []\n",
    "    for i in range(0, listLen):\n",
    "        cds.append(np.round(random.uniform(0,1)))\n",
    "    cds = np.array(cds)\n",
    "    return cds\n",
    "\n",
    "def cosAngle(v1, v2):\n",
    "    return (np.arccos(round(np.sum(v1 * v2),5)) / np.pi) * 180\n",
    "\n",
    "def cosDist(v1, v2):\n",
    "    return 1 - np.sum(v1 * v2)"
   ]
  },
  {
   "cell_type": "markdown",
   "metadata": {},
   "source": [
    "Set up the parameters"
   ]
  },
  {
   "cell_type": "code",
   "execution_count": 57,
   "metadata": {
    "collapsed": true
   },
   "outputs": [],
   "source": [
    "fields = ['duration','end_of_fade_in','key', 'loudness','mode','start_of_fade_out','tempo','time_signature']\n",
    "r = int(64)\n",
    "b = int(3)\n",
    "epsilon = int(2)"
   ]
  },
  {
   "cell_type": "markdown",
   "metadata": {},
   "source": [
    "Read and prepare data for duplicate detection"
   ]
  },
  {
   "cell_type": "code",
   "execution_count": 58,
   "metadata": {
    "scrolled": true
   },
   "outputs": [],
   "source": [
    "tar = tarfile.open('millionsongsubset_full.tar.gz', 'r')\n",
    "members = tar.getmembers()\n",
    "\n",
    "summary = pd.HDFStore(members[5].name)\n",
    "totalFields = len(fields)\n",
    "N = 10000\n",
    "\n",
    "F = []\n",
    "\n",
    "for f in fields:\n",
    "    F.append(summary['/analysis/songs'][f])\n",
    "\n",
    "X = []\n",
    "\n",
    "for i in range(0, N):\n",
    "    x = []\n",
    "    for f in F:\n",
    "        x.append(f[i])\n",
    "    X.append(x)\n",
    "X = np.array(X)\n",
    "\n",
    "X = preprocessing.scale(X)\n",
    "for i in range(0, N):\n",
    "    X[i,:] = X[i,:] / np.sqrt(sum(X[i,:] * X[i,:]))"
   ]
  },
  {
   "cell_type": "markdown",
   "metadata": {},
   "source": [
    "Start timing the LSH Cos similarity code"
   ]
  },
  {
   "cell_type": "code",
   "execution_count": 59,
   "metadata": {
    "collapsed": true
   },
   "outputs": [],
   "source": [
    "execBegin = time.clock()"
   ]
  },
  {
   "cell_type": "markdown",
   "metadata": {},
   "source": [
    "Generate hash functions"
   ]
  },
  {
   "cell_type": "code",
   "execution_count": 60,
   "metadata": {},
   "outputs": [],
   "source": [
    "totalHash = r * b\n",
    "checkedVal = []\n",
    "hashFunctions = []\n",
    "sumCheck = [pow(2,x) for x in range(totalFields-1, -1, -1)]\n",
    "i = 0\n",
    "while(i < totalHash):\n",
    "    randHash = randBinStr(totalFields)\n",
    "    hashval = sum(sumCheck * randHash)\n",
    "    \n",
    "    if(hashval not in checkedVal):\n",
    "        checkedVal.append(hashval)\n",
    "        hashFunctions.append(randHash * 2 - 1)\n",
    "        i += 1"
   ]
  },
  {
   "cell_type": "markdown",
   "metadata": {},
   "source": [
    "Generate signature matrix"
   ]
  },
  {
   "cell_type": "code",
   "execution_count": 61,
   "metadata": {},
   "outputs": [],
   "source": [
    "X_signature = []\n",
    "for i in range(0, totalHash):\n",
    "    x_s = []\n",
    "    Hf = hashFunctions[i]\n",
    "    for x in X:\n",
    "        x_s.append((np.sum(Hf * x) > 0) * 1)\n",
    "    X_signature.append(x_s)\n",
    "X_signature = np.array(X_signature)"
   ]
  },
  {
   "cell_type": "markdown",
   "metadata": {},
   "source": [
    "Assign appropriate bucket to songs"
   ]
  },
  {
   "cell_type": "code",
   "execution_count": 62,
   "metadata": {},
   "outputs": [],
   "source": [
    "X_pairs = []\n",
    "decConvVect = [2**x for x in range(0,r)]\n",
    "for b_i in range(0, b):\n",
    "    bins = []\n",
    "    for x_i in range(0, N):\n",
    "        decVal = sum(X_signature[b_i * r : (b_i + 1) * r, x_i] * decConvVect)\n",
    "        bins.append([x_i, decVal])\n",
    "    X_pairs.append(bins)\n",
    "X_pairs = np.array(X_pairs)"
   ]
  },
  {
   "cell_type": "markdown",
   "metadata": {},
   "source": [
    "Generate candidate pairs"
   ]
  },
  {
   "cell_type": "code",
   "execution_count": 63,
   "metadata": {},
   "outputs": [],
   "source": [
    "c_pairs = []\n",
    "for b_i in range(0,b):\n",
    "    X_s = sorted(X_pairs[b_i], key = lambda i: i[1])\n",
    "    for ixs in range(0, N - 1):\n",
    "        if(X_s[ixs][1] == X_s[ixs + 1][1]):\n",
    "            if([X_s[ixs][0], X_s[ixs + 1][0]] not in c_pairs):\n",
    "                c_pairs.append([X_s[ixs][0], X_s[ixs + 1][0]])"
   ]
  },
  {
   "cell_type": "markdown",
   "metadata": {},
   "source": [
    "Compute duplicates from candidates"
   ]
  },
  {
   "cell_type": "code",
   "execution_count": 64,
   "metadata": {},
   "outputs": [],
   "source": [
    "pairs = []\n",
    "for cp in c_pairs:\n",
    "    if(cosAngle(X[int(cp[0])], X[int(cp[1])]) < epsilon):\n",
    "        pairs.append(cp)"
   ]
  },
  {
   "cell_type": "markdown",
   "metadata": {},
   "source": [
    "End timing the LSH Cos similarity code"
   ]
  },
  {
   "cell_type": "code",
   "execution_count": 65,
   "metadata": {
    "collapsed": true
   },
   "outputs": [],
   "source": [
    "execTime = time.clock() - execBegin"
   ]
  },
  {
   "cell_type": "markdown",
   "metadata": {},
   "source": [
    "Print results"
   ]
  },
  {
   "cell_type": "code",
   "execution_count": 66,
   "metadata": {
    "scrolled": true
   },
   "outputs": [
    {
     "name": "stdout",
     "output_type": "stream",
     "text": [
      "The LSH code took  11.306169899786255 ms to detect duplicates\n",
      "\n",
      "Total candidate pairs found:  4514 \n",
      "\n",
      "Total duplicate entries found:  16 \n",
      "\n",
      "Indexes of duplicate pairs: \n",
      "\n",
      "2597 2785\n",
      "1063 8948\n",
      "497 582\n",
      "6983 8115\n",
      "612 2569\n",
      "585 2035\n",
      "8449 8543\n",
      "70 6427\n",
      "908 3742\n",
      "1256 9811\n",
      "1899 8632\n",
      "5970 8978\n",
      "4826 5442\n",
      "437 2747\n",
      "2361 8286\n",
      "4076 8632\n"
     ]
    }
   ],
   "source": [
    "print(\"The LSH code took \", execTime, \"ms to detect duplicates\\n\")\n",
    "print(\"Total candidate pairs found: \", len(c_pairs),\"\\n\")\n",
    "print(\"Total duplicate entries found: \", len(pairs),\"\\n\")\n",
    "\n",
    "print(\"Indexes of duplicate pairs: \\n\")\n",
    "for p in pairs:\n",
    "    print(int(p[0]), int(p[1]))"
   ]
  },
  {
   "cell_type": "markdown",
   "metadata": {},
   "source": [
    "Run the brute force implementation for time comparison"
   ]
  },
  {
   "cell_type": "code",
   "execution_count": 53,
   "metadata": {
    "collapsed": true
   },
   "outputs": [],
   "source": [
    "beginBF = time.clock()\n",
    "bruteForcePairs = []\n",
    "for i in range(0, N):\n",
    "    for j in range(i + 1, N):\n",
    "        if(cosAngle(X[i], X[j]) < epsilon):\n",
    "            bruteForcePairs.append([i,j])\n",
    "BFtime = time.clock() - beginBF"
   ]
  },
  {
   "cell_type": "code",
   "execution_count": 70,
   "metadata": {},
   "outputs": [
    {
     "name": "stdout",
     "output_type": "stream",
     "text": [
      "The brute force code took  425.94332287293537 ms to detect duplicates\n",
      "\n",
      "Total duplicate entries found:  25 \n",
      "\n",
      "Brute force approach took  37.67352928961274  times the time taken by the LSH approach\n"
     ]
    }
   ],
   "source": [
    "print(\"The brute force code took \", BFtime, \"ms to detect duplicates\\n\")\n",
    "print(\"Total duplicate entries found: \", len(bruteForcePairs),\"\\n\")\n",
    "print(\"Brute force approach took \", BFtime / execTime, \" times the time taken by the LSH approach\")\n",
    "\n",
    "#print(\"Indexes of duplicate pairs: \\n\")\n",
    "#for p in bruteForcePairs:\n",
    "#    print(int(p[0]), int(p[1]))"
   ]
  }
 ],
 "metadata": {
  "anaconda-cloud": {},
  "kernelspec": {
   "display_name": "Python 2",
   "language": "python",
   "name": "python2"
  },
  "language_info": {
   "codemirror_mode": {
    "name": "ipython",
    "version": 2
   },
   "file_extension": ".py",
   "mimetype": "text/x-python",
   "name": "python",
   "nbconvert_exporter": "python",
   "pygments_lexer": "ipython2",
   "version": "2.7.13"
  }
 },
 "nbformat": 4,
 "nbformat_minor": 1
}
